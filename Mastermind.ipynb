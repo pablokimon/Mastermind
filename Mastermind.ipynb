{
 "cells": [
  {
   "cell_type": "code",
   "execution_count": 1,
   "metadata": {},
   "outputs": [],
   "source": [
    "import requests\n",
    "import json\n",
    "from collections import defaultdict"
   ]
  },
  {
   "cell_type": "code",
   "execution_count": 2,
   "metadata": {},
   "outputs": [],
   "source": [
    "def getRandomPattern(pattern_length,pattern_start,pattern_end):\n",
    "    '''returns a list of a series of random numbers based on the parameters passed in.\n",
    "    \n",
    "    '''\n",
    "    url = 'https://www.random.org/integers/' #integer generator\n",
    "    params = {'num':pattern_length,'min':pattern_start,'max':pattern_end,'col':1,'base':10,'format':'plain','rnd':'new'} # api parameters\n",
    "    response = requests.get(url,params) #save the contents of the get request to a variable, returns a plain text list of numbers with \\n new line after each number\n",
    "    pattern = [int(x) for x in response.text.strip('\\n').split('\\n')] #parse the response into a nice list: remove the last \\n from the string, split on \\n and use list comprehension to convert each string into an integer\n",
    "\n",
    "    return pattern"
   ]
  },
  {
   "cell_type": "raw",
   "metadata": {},
   "source": [
    "https://www.random.org/integers/?num=4&min=1&max=6&col=1&base=10&format=plain&rnd=new"
   ]
  },
  {
   "cell_type": "code",
   "execution_count": 123,
   "metadata": {},
   "outputs": [],
   "source": [
    "def checkGuess(guess,pattern):\n",
    "    '''compares a guess by the user to the computer's pattern. \n",
    "    This function expects both guess and pattern to lists of the same size.\n",
    "    This similarity is checked when the guess is captured before it is passed here.\n",
    "    We iterate through the guess from index 0.\n",
    "    First we check for correct placement and correct number\n",
    "    If not correct placement, then check if the guess is somehwere else in the pattern.'''\n",
    "    \n",
    "    correctPlace = 0 #counter for number of guesses that are in the correct place and correct number\n",
    "    correctNumber = 0 #conter for the number of guesses that are only a correct number but NOT in the correct place.\n",
    "    pattern_check = pattern.copy()\n",
    "    guess_check = guess.copy()\n",
    "    for x in range(len(guess)): #loops over the length of the guess, uses x as an index of the list\n",
    "        print(guess_check, pattern_check)\n",
    "        print(guess[x],pattern[x])\n",
    "        if guess[x] == pattern[x]: #check if the index of the guess is in the correct place and correct number then increment counter\n",
    "            correctPlace += 1\n",
    "            pattern_check.remove(guess[x])\n",
    "            guess_check.remove(guess[x])\n",
    "    for x in guess_check:\n",
    "        print(\"check\",guess_check, pattern_check)\n",
    "        if x in pattern_check: #if not correct location, check if the index of the guess is in the pattern at all and increment the counter\n",
    "            correctNumber += 1\n",
    "            pattern_check.remove(x)\n",
    "        print('correct location: ',correctPlace)\n",
    "        print('correct number: ', correctNumber)\n",
    "    return correctNumber,correctPlace #return the counts of correct number and place"
   ]
  },
  {
   "cell_type": "code",
   "execution_count": 125,
   "metadata": {},
   "outputs": [
    {
     "name": "stdout",
     "output_type": "stream",
     "text": [
      "[4, 2, 2, 2] [1, 2, 2, 4]\n",
      "4 1\n",
      "[4, 2, 2, 2] [1, 2, 2, 4]\n",
      "2 2\n",
      "[4, 2, 2] [1, 2, 4]\n",
      "2 2\n",
      "[4, 2] [1, 4]\n",
      "2 4\n",
      "check [4, 2] [1, 4]\n",
      "correct location:  2\n",
      "correct number:  1\n",
      "check [4, 2] [1]\n",
      "correct location:  2\n",
      "correct number:  1\n"
     ]
    },
    {
     "data": {
      "text/plain": [
       "(1, 2)"
      ]
     },
     "execution_count": 125,
     "metadata": {},
     "output_type": "execute_result"
    }
   ],
   "source": [
    "checkGuess([4,2,2,2],[1,2,2,4])"
   ]
  },
  {
   "cell_type": "code",
   "execution_count": 41,
   "metadata": {},
   "outputs": [],
   "source": [
    "def guessInRange(guess,pattern_range):\n",
    "    #iterates through the guess and checks if the elements are in the range of the pattern,\n",
    "    #as soon as an element is found outside the range, return false\n",
    "    for g in guess:\n",
    "        if g not in pattern_range:\n",
    "            print(\"Sorry one of your guesses was outside the range\")\n",
    "            return False\n",
    "        else:\n",
    "            return True"
   ]
  },
  {
   "cell_type": "code",
   "execution_count": 42,
   "metadata": {},
   "outputs": [],
   "source": [
    "def getGuess(pattern_length,pattern_start,pattern_end,pattern_range):\n",
    "    \n",
    "    while True:\n",
    "        try:\n",
    "            guess = input('Please enter %d numbers between %d and %d' %(pattern_length,pattern_start,pattern_end))           \n",
    "            guess =[int(g) for g in guess]\n",
    "        except ValueError:\n",
    "            print ('Oops you entered something other than numbers')\n",
    "            continue\n",
    "        \n",
    "        if len(guess) != pattern_length:\n",
    "            print (\"Oops your guess wasn't %d numbers long\" %pattern_length)\n",
    "            continue\n",
    "\n",
    "        elif not guessInRange(guess,pattern_range): #I tried to get this working in an if statement, but had to move it outside to a function\n",
    "            continue\n",
    "            \n",
    "        else:\n",
    "            return guess                   "
   ]
  },
  {
   "cell_type": "code",
   "execution_count": 43,
   "metadata": {},
   "outputs": [],
   "source": [
    "def setParameters():\n",
    "    pass"
   ]
  },
  {
   "cell_type": "code",
   "execution_count": 129,
   "metadata": {},
   "outputs": [],
   "source": [
    "def startGame():\n",
    "    \n",
    "    pattern_length = 4\n",
    "    pattern_start = 1\n",
    "    pattern_end = 8\n",
    "    pattern_range = [r for r in range(pattern_start,pattern_end+1)]\n",
    "    guess_number = 0\n",
    "    max_guess = 10\n",
    "    result_dict = defaultdict(dict)\n",
    "    guess = [1,2,3,4]\n",
    "    correctPattern = 0\n",
    "    \n",
    "    print('''Welcome to MASTERMIND\n",
    "    type \\'set' to change game settings otherwise press enter to start!''')\n",
    "    if input().lower()=='set':\n",
    "        setParameters()\n",
    "        \n",
    "    pattern = getRandomPattern(pattern_length,pattern_start,pattern_end)\n",
    "    \n",
    "    while correctPattern < 4:\n",
    "        \n",
    "        for guess_number in range(1,max_guess):\n",
    "            #guess_number = m\n",
    "            #guess = int(input('Please enter %d numbers between %d and %d' %(pattern_length,pattern_start,pattern_end)))\n",
    "            print('Guess # %d :'%guess_number)\n",
    "            guess = getGuess(pattern_length,pattern_start,pattern_end,pattern_range)\n",
    "            #guess=[int(g) for g in guess]\n",
    "            correctNumber, correctPattern = checkGuess(guess,pattern)\n",
    "            print(correctNumber, correctPattern)\n",
    "            result_dict[guess_number]={'Guess':guess,'Correct Number':correctNumber, 'Correct Location':correctPattern}\n",
    "\n",
    "            for r in result_dict.values():\n",
    "                print (r)\n",
    "                for k,v in r.iteritems():\n",
    "                    print (k,v)\n",
    "\n"
   ]
  },
  {
   "cell_type": "code",
   "execution_count": 74,
   "metadata": {},
   "outputs": [
    {
     "name": "stdout",
     "output_type": "stream",
     "text": [
      "{'Guess:': [1, 2, 3, 4], 'Correct Number:': 1, 'Correct Location:': 1}\n",
      "[1, 2, 3, 4]\n"
     ]
    }
   ],
   "source": [
    "guess=[1,2,3,4]\n",
    "correctNumber=1\n",
    "correctPattern=1\n",
    "result_dict[guess_number]={'Guess:':guess,'Correct Number:':correctNumber, 'Correct Location:':correctPattern}\n",
    "#print (result_dict)\n",
    "for k in result_dict.values():\n",
    "    print(k)\n",
    "    print (k['Guess:'])"
   ]
  },
  {
   "cell_type": "code",
   "execution_count": 132,
   "metadata": {},
   "outputs": [
    {
     "name": "stdout",
     "output_type": "stream",
     "text": [
      "Welcome to MASTERMIND\n",
      "    type 'set' to change game settings otherwise press enter to start!\n"
     ]
    },
    {
     "name": "stdin",
     "output_type": "stream",
     "text": [
      " \n"
     ]
    },
    {
     "name": "stdout",
     "output_type": "stream",
     "text": [
      "Guess # 1 :\n"
     ]
    },
    {
     "name": "stdin",
     "output_type": "stream",
     "text": [
      "Please enter 4 numbers between 1 and 8 1234\n"
     ]
    },
    {
     "name": "stdout",
     "output_type": "stream",
     "text": [
      "[1, 2, 3, 4] [8, 2, 4, 1]\n",
      "1 8\n",
      "[1, 2, 3, 4] [8, 2, 4, 1]\n",
      "2 2\n",
      "[1, 3, 4] [8, 4, 1]\n",
      "3 4\n",
      "[1, 3, 4] [8, 4, 1]\n",
      "4 1\n",
      "check [1, 3, 4] [8, 4, 1]\n",
      "correct location:  1\n",
      "correct number:  1\n",
      "check [1, 3, 4] [8, 4]\n",
      "correct location:  1\n",
      "correct number:  1\n",
      "check [1, 3, 4] [8, 4]\n",
      "correct location:  1\n",
      "correct number:  2\n",
      "2 1\n",
      "{'Guess': [1, 2, 3, 4], 'Correct Number': 2, 'Correct Location': 1}\n"
     ]
    },
    {
     "ename": "AttributeError",
     "evalue": "'dict' object has no attribute 'iteritems'",
     "output_type": "error",
     "traceback": [
      "\u001b[0;31m---------------------------------------------------------------------------\u001b[0m",
      "\u001b[0;31mAttributeError\u001b[0m                            Traceback (most recent call last)",
      "\u001b[0;32m<ipython-input-132-051476c02cf7>\u001b[0m in \u001b[0;36m<module>\u001b[0;34m\u001b[0m\n\u001b[0;32m----> 1\u001b[0;31m \u001b[0mstartGame\u001b[0m\u001b[0;34m(\u001b[0m\u001b[0;34m)\u001b[0m\u001b[0;34m\u001b[0m\u001b[0;34m\u001b[0m\u001b[0m\n\u001b[0m",
      "\u001b[0;32m<ipython-input-129-ec3960785bd7>\u001b[0m in \u001b[0;36mstartGame\u001b[0;34m()\u001b[0m\n\u001b[1;32m     32\u001b[0m             \u001b[0;32mfor\u001b[0m \u001b[0mr\u001b[0m \u001b[0;32min\u001b[0m \u001b[0mresult_dict\u001b[0m\u001b[0;34m.\u001b[0m\u001b[0mvalues\u001b[0m\u001b[0;34m(\u001b[0m\u001b[0;34m)\u001b[0m\u001b[0;34m:\u001b[0m\u001b[0;34m\u001b[0m\u001b[0;34m\u001b[0m\u001b[0m\n\u001b[1;32m     33\u001b[0m                 \u001b[0mprint\u001b[0m \u001b[0;34m(\u001b[0m\u001b[0mr\u001b[0m\u001b[0;34m)\u001b[0m\u001b[0;34m\u001b[0m\u001b[0;34m\u001b[0m\u001b[0m\n\u001b[0;32m---> 34\u001b[0;31m                 \u001b[0;32mfor\u001b[0m \u001b[0mk\u001b[0m\u001b[0;34m,\u001b[0m\u001b[0mv\u001b[0m \u001b[0;32min\u001b[0m \u001b[0mr\u001b[0m\u001b[0;34m.\u001b[0m\u001b[0miteritems\u001b[0m\u001b[0;34m(\u001b[0m\u001b[0;34m)\u001b[0m\u001b[0;34m:\u001b[0m\u001b[0;34m\u001b[0m\u001b[0;34m\u001b[0m\u001b[0m\n\u001b[0m\u001b[1;32m     35\u001b[0m                     \u001b[0mprint\u001b[0m \u001b[0;34m(\u001b[0m\u001b[0mk\u001b[0m\u001b[0;34m,\u001b[0m\u001b[0mv\u001b[0m\u001b[0;34m)\u001b[0m\u001b[0;34m\u001b[0m\u001b[0;34m\u001b[0m\u001b[0m\n\u001b[1;32m     36\u001b[0m \u001b[0;34m\u001b[0m\u001b[0m\n",
      "\u001b[0;31mAttributeError\u001b[0m: 'dict' object has no attribute 'iteritems'"
     ]
    }
   ],
   "source": [
    "startGame()"
   ]
  },
  {
   "cell_type": "code",
   "execution_count": 23,
   "metadata": {},
   "outputs": [],
   "source": [
    "d =defaultdict(dict)"
   ]
  },
  {
   "cell_type": "code",
   "execution_count": 53,
   "metadata": {},
   "outputs": [],
   "source": [
    "    pattern_length = 4\n",
    "    pattern_start = 1\n",
    "    pattern_end = 8\n",
    "    pattern_range = [r for r in range(pattern_start,pattern_end+1)]"
   ]
  },
  {
   "cell_type": "code",
   "execution_count": 105,
   "metadata": {},
   "outputs": [],
   "source": [
    "#pattern_range.remove(2)\n",
    "#pattern_range.insert(3,2)\n",
    "prc=pattern_range.copy()"
   ]
  },
  {
   "cell_type": "code",
   "execution_count": 112,
   "metadata": {},
   "outputs": [
    {
     "data": {
      "text/plain": [
       "[7, 8]"
      ]
     },
     "execution_count": 112,
     "metadata": {},
     "output_type": "execute_result"
    }
   ],
   "source": [
    "del prc[0]\n",
    "prc"
   ]
  },
  {
   "cell_type": "code",
   "execution_count": 96,
   "metadata": {},
   "outputs": [
    {
     "name": "stdout",
     "output_type": "stream",
     "text": [
      "[2, 2, 2, 2] [1, 2, 2, 4]\n",
      "2 1\n",
      "correct location:  0\n",
      "correct number:  1\n",
      "[2, 2, 2, 2] [1, 2, 2, 4]\n",
      "2 2\n",
      "correct location:  1\n",
      "correct number:  1\n",
      "[2, 2, 2, 2] [1, 2, 2, 4]\n",
      "2 2\n"
     ]
    },
    {
     "ename": "IndexError",
     "evalue": "list index out of range",
     "output_type": "error",
     "traceback": [
      "\u001b[0;31m---------------------------------------------------------------------------\u001b[0m",
      "\u001b[0;31mIndexError\u001b[0m                                Traceback (most recent call last)",
      "\u001b[0;32m<ipython-input-96-ad101c0e2d19>\u001b[0m in \u001b[0;36m<module>\u001b[0;34m\u001b[0m\n\u001b[0;32m----> 1\u001b[0;31m \u001b[0mcheckGuess\u001b[0m\u001b[0;34m(\u001b[0m\u001b[0;34m[\u001b[0m\u001b[0;36m2\u001b[0m\u001b[0;34m,\u001b[0m\u001b[0;36m2\u001b[0m\u001b[0;34m,\u001b[0m\u001b[0;36m2\u001b[0m\u001b[0;34m,\u001b[0m\u001b[0;36m2\u001b[0m\u001b[0;34m]\u001b[0m\u001b[0;34m,\u001b[0m\u001b[0;34m[\u001b[0m\u001b[0;36m1\u001b[0m\u001b[0;34m,\u001b[0m\u001b[0;36m2\u001b[0m\u001b[0;34m,\u001b[0m\u001b[0;36m2\u001b[0m\u001b[0;34m,\u001b[0m\u001b[0;36m4\u001b[0m\u001b[0;34m]\u001b[0m\u001b[0;34m)\u001b[0m\u001b[0;34m\u001b[0m\u001b[0;34m\u001b[0m\u001b[0m\n\u001b[0m",
      "\u001b[0;32m<ipython-input-95-8271d9d5d6cb>\u001b[0m in \u001b[0;36mcheckGuess\u001b[0;34m(guess, pattern)\u001b[0m\n\u001b[1;32m     13\u001b[0m         \u001b[0mprint\u001b[0m\u001b[0;34m(\u001b[0m\u001b[0mguess\u001b[0m\u001b[0;34m,\u001b[0m \u001b[0mpattern\u001b[0m\u001b[0;34m)\u001b[0m\u001b[0;34m\u001b[0m\u001b[0;34m\u001b[0m\u001b[0m\n\u001b[1;32m     14\u001b[0m         \u001b[0mprint\u001b[0m\u001b[0;34m(\u001b[0m\u001b[0mguess\u001b[0m\u001b[0;34m[\u001b[0m\u001b[0mx\u001b[0m\u001b[0;34m]\u001b[0m\u001b[0;34m,\u001b[0m\u001b[0mpattern\u001b[0m\u001b[0;34m[\u001b[0m\u001b[0mx\u001b[0m\u001b[0;34m]\u001b[0m\u001b[0;34m)\u001b[0m\u001b[0;34m\u001b[0m\u001b[0;34m\u001b[0m\u001b[0m\n\u001b[0;32m---> 15\u001b[0;31m         \u001b[0;32mif\u001b[0m \u001b[0mguess\u001b[0m\u001b[0;34m[\u001b[0m\u001b[0mx\u001b[0m\u001b[0;34m]\u001b[0m \u001b[0;34m==\u001b[0m \u001b[0mpattern_check\u001b[0m\u001b[0;34m[\u001b[0m\u001b[0mx\u001b[0m\u001b[0;34m]\u001b[0m\u001b[0;34m:\u001b[0m \u001b[0;31m#check if the index of the guess is in the correct place and correct number then increment counter\u001b[0m\u001b[0;34m\u001b[0m\u001b[0;34m\u001b[0m\u001b[0m\n\u001b[0m\u001b[1;32m     16\u001b[0m             \u001b[0mcorrectPlace\u001b[0m \u001b[0;34m+=\u001b[0m \u001b[0;36m1\u001b[0m\u001b[0;34m\u001b[0m\u001b[0;34m\u001b[0m\u001b[0m\n\u001b[1;32m     17\u001b[0m             \u001b[0mpattern_check\u001b[0m\u001b[0;34m.\u001b[0m\u001b[0mremove\u001b[0m\u001b[0;34m(\u001b[0m\u001b[0mguess\u001b[0m\u001b[0;34m[\u001b[0m\u001b[0mx\u001b[0m\u001b[0;34m]\u001b[0m\u001b[0;34m)\u001b[0m\u001b[0;34m\u001b[0m\u001b[0;34m\u001b[0m\u001b[0m\n",
      "\u001b[0;31mIndexError\u001b[0m: list index out of range"
     ]
    }
   ],
   "source": [
    "checkGuess([2,2,2,2],[1,2,2,4])"
   ]
  },
  {
   "cell_type": "code",
   "execution_count": 1,
   "metadata": {},
   "outputs": [
    {
     "name": "stdout",
     "output_type": "stream",
     "text": [
      "\n",
      "\n",
      "                                                                                                                                                                                                     \n",
      "                                                                                                                                                                                             dddddddd\n",
      "MMMMMMMM               MMMMMMMM                                           tttt                                                                            iiii                               d::::::d\n",
      "M:::::::M             M:::::::M                                        ttt:::t                                                                           i::::i                              d::::::d\n",
      "M::::::::M           M::::::::M                                        t:::::t                                                                            iiii                               d::::::d\n",
      "M:::::::::M         M:::::::::M                                        t:::::t                                                                                                               d:::::d \n",
      "M::::::::::M       M::::::::::M  aaaaaaaaaaaaa      ssssssssss   ttttttt:::::ttttttt        eeeeeeeeeeee    rrrrr   rrrrrrrrr      mmmmmmm    mmmmmmm   iiiiiiinnnn  nnnnnnnn        ddddddddd:::::d \n",
      "M:::::::::::M     M:::::::::::M  a::::::::::::a   ss::::::::::s  t:::::::::::::::::t      ee::::::::::::ee  r::::rrr:::::::::r   mm:::::::m  m:::::::mm i:::::in:::nn::::::::nn    dd::::::::::::::d \n",
      "M:::::::M::::M   M::::M:::::::M  aaaaaaaaa:::::ass:::::::::::::s t:::::::::::::::::t     e::::::eeeee:::::eer:::::::::::::::::r m::::::::::mm::::::::::m i::::in::::::::::::::nn  d::::::::::::::::d \n",
      "M::::::M M::::M M::::M M::::::M           a::::as::::::ssss:::::stttttt:::::::tttttt    e::::::e     e:::::err::::::rrrrr::::::rm::::::::::::::::::::::m i::::inn:::::::::::::::nd:::::::ddddd:::::d \n",
      "M::::::M  M::::M::::M  M::::::M    aaaaaaa:::::a s:::::s  ssssss       t:::::t          e:::::::eeeee::::::e r:::::r     r:::::rm:::::mmm::::::mmm:::::m i::::i  n:::::nnnn:::::nd::::::d    d:::::d \n",
      "M::::::M   M:::::::M   M::::::M  aa::::::::::::a   s::::::s            t:::::t          e:::::::::::::::::e  r:::::r     rrrrrrrm::::m   m::::m   m::::m i::::i  n::::n    n::::nd:::::d     d:::::d \n",
      "M::::::M    M:::::M    M::::::M a::::aaaa::::::a      s::::::s         t:::::t          e::::::eeeeeeeeeee   r:::::r            m::::m   m::::m   m::::m i::::i  n::::n    n::::nd:::::d     d:::::d \n",
      "M::::::M     MMMMM     M::::::Ma::::a    a:::::assssss   s:::::s       t:::::t    tttttte:::::::e            r:::::r            m::::m   m::::m   m::::m i::::i  n::::n    n::::nd:::::d     d:::::d \n",
      "M::::::M               M::::::Ma::::a    a:::::as:::::ssss::::::s      t::::::tttt:::::te::::::::e           r:::::r            m::::m   m::::m   m::::mi::::::i n::::n    n::::nd::::::ddddd::::::dd\n",
      "M::::::M               M::::::Ma:::::aaaa::::::as::::::::::::::s       tt::::::::::::::t e::::::::eeeeeeee   r:::::r            m::::m   m::::m   m::::mi::::::i n::::n    n::::n d:::::::::::::::::d\n",
      "M::::::M               M::::::M a::::::::::aa:::as:::::::::::ss          tt:::::::::::tt  ee:::::::::::::e   r:::::r            m::::m   m::::m   m::::mi::::::i n::::n    n::::n  d:::::::::ddd::::d\n",
      "MMMMMMMM               MMMMMMMM  aaaaaaaaaa  aaaa sssssssssss              ttttttttttt      eeeeeeeeeeeeee   rrrrrrr            mmmmmm   mmmmmm   mmmmmmiiiiiiii nnnnnn    nnnnnn   ddddddddd   ddddd\n",
      "                                                                                                                                                                                                     \n",
      "                                                                                                                                                                                                     \n",
      "                                                                                                                                                                                                     \n",
      "                                                                                                                                                                                                     \n",
      "                                                                                                                                                                                                     \n",
      "                                                                                                                                                                                                     \n",
      "                                                                                                                                                                                                     \n",
      "\n",
      "\n"
     ]
    }
   ],
   "source": [
    "print('''\n",
    "\n",
    "\n",
    "                                                                                                                                                                                                     \n",
    "                                                                                                                                                                                             dddddddd\n",
    "MMMMMMMM               MMMMMMMM                                           tttt                                                                            iiii                               d::::::d\n",
    "M:::::::M             M:::::::M                                        ttt:::t                                                                           i::::i                              d::::::d\n",
    "M::::::::M           M::::::::M                                        t:::::t                                                                            iiii                               d::::::d\n",
    "M:::::::::M         M:::::::::M                                        t:::::t                                                                                                               d:::::d \n",
    "M::::::::::M       M::::::::::M  aaaaaaaaaaaaa      ssssssssss   ttttttt:::::ttttttt        eeeeeeeeeeee    rrrrr   rrrrrrrrr      mmmmmmm    mmmmmmm   iiiiiiinnnn  nnnnnnnn        ddddddddd:::::d \n",
    "M:::::::::::M     M:::::::::::M  a::::::::::::a   ss::::::::::s  t:::::::::::::::::t      ee::::::::::::ee  r::::rrr:::::::::r   mm:::::::m  m:::::::mm i:::::in:::nn::::::::nn    dd::::::::::::::d \n",
    "M:::::::M::::M   M::::M:::::::M  aaaaaaaaa:::::ass:::::::::::::s t:::::::::::::::::t     e::::::eeeee:::::eer:::::::::::::::::r m::::::::::mm::::::::::m i::::in::::::::::::::nn  d::::::::::::::::d \n",
    "M::::::M M::::M M::::M M::::::M           a::::as::::::ssss:::::stttttt:::::::tttttt    e::::::e     e:::::err::::::rrrrr::::::rm::::::::::::::::::::::m i::::inn:::::::::::::::nd:::::::ddddd:::::d \n",
    "M::::::M  M::::M::::M  M::::::M    aaaaaaa:::::a s:::::s  ssssss       t:::::t          e:::::::eeeee::::::e r:::::r     r:::::rm:::::mmm::::::mmm:::::m i::::i  n:::::nnnn:::::nd::::::d    d:::::d \n",
    "M::::::M   M:::::::M   M::::::M  aa::::::::::::a   s::::::s            t:::::t          e:::::::::::::::::e  r:::::r     rrrrrrrm::::m   m::::m   m::::m i::::i  n::::n    n::::nd:::::d     d:::::d \n",
    "M::::::M    M:::::M    M::::::M a::::aaaa::::::a      s::::::s         t:::::t          e::::::eeeeeeeeeee   r:::::r            m::::m   m::::m   m::::m i::::i  n::::n    n::::nd:::::d     d:::::d \n",
    "M::::::M     MMMMM     M::::::Ma::::a    a:::::assssss   s:::::s       t:::::t    tttttte:::::::e            r:::::r            m::::m   m::::m   m::::m i::::i  n::::n    n::::nd:::::d     d:::::d \n",
    "M::::::M               M::::::Ma::::a    a:::::as:::::ssss::::::s      t::::::tttt:::::te::::::::e           r:::::r            m::::m   m::::m   m::::mi::::::i n::::n    n::::nd::::::ddddd::::::dd\n",
    "M::::::M               M::::::Ma:::::aaaa::::::as::::::::::::::s       tt::::::::::::::t e::::::::eeeeeeee   r:::::r            m::::m   m::::m   m::::mi::::::i n::::n    n::::n d:::::::::::::::::d\n",
    "M::::::M               M::::::M a::::::::::aa:::as:::::::::::ss          tt:::::::::::tt  ee:::::::::::::e   r:::::r            m::::m   m::::m   m::::mi::::::i n::::n    n::::n  d:::::::::ddd::::d\n",
    "MMMMMMMM               MMMMMMMM  aaaaaaaaaa  aaaa sssssssssss              ttttttttttt      eeeeeeeeeeeeee   rrrrrrr            mmmmmm   mmmmmm   mmmmmmiiiiiiii nnnnnn    nnnnnn   ddddddddd   ddddd\n",
    "                                                                                                                                                                                                     \n",
    "                                                                                                                                                                                                     \n",
    "                                                                                                                                                                                                     \n",
    "                                                                                                                                                                                                     \n",
    "                                                                                                                                                                                                     \n",
    "                                                                                                                                                                                                     \n",
    "                                                                                                                                                                                                     \n",
    "\n",
    "\n",
    "''')"
   ]
  },
  {
   "cell_type": "code",
   "execution_count": 103,
   "metadata": {},
   "outputs": [],
   "source": [
    "def test(x):\n",
    "    x.pop(1)\n",
    "    return \n",
    "\n",
    "def main():\n",
    "    x=[1,2,3,4]\n",
    "    print(x)\n",
    "    test(x)\n",
    "    print(x)"
   ]
  },
  {
   "cell_type": "code",
   "execution_count": 104,
   "metadata": {},
   "outputs": [
    {
     "name": "stdout",
     "output_type": "stream",
     "text": [
      "[1, 2, 3, 4]\n",
      "[1, 3, 4]\n"
     ]
    }
   ],
   "source": [
    "main()"
   ]
  },
  {
   "cell_type": "code",
   "execution_count": 133,
   "metadata": {},
   "outputs": [],
   "source": [
    "d = defaultdict(dict)"
   ]
  },
  {
   "cell_type": "code",
   "execution_count": 134,
   "metadata": {},
   "outputs": [],
   "source": [
    "d[1]={'Guess:': [1, 2, 3, 4], 'Correct Number:': 1, 'Correct Location:': 1}"
   ]
  },
  {
   "cell_type": "code",
   "execution_count": 135,
   "metadata": {},
   "outputs": [],
   "source": [
    "d[2]={'Guess:': [1, 2, 3, 4], 'Correct Number:': 1, 'Correct Location:': 1}\n",
    "d[3]={'Guess:': [1, 2, 3, 4], 'Correct Number:': 1, 'Correct Location:': 1}"
   ]
  },
  {
   "cell_type": "code",
   "execution_count": 136,
   "metadata": {},
   "outputs": [
    {
     "data": {
      "text/plain": [
       "defaultdict(dict,\n",
       "            {1: {'Guess:': [1, 2, 3, 4],\n",
       "              'Correct Number:': 1,\n",
       "              'Correct Location:': 1},\n",
       "             2: {'Guess:': [1, 2, 3, 4],\n",
       "              'Correct Number:': 1,\n",
       "              'Correct Location:': 1},\n",
       "             3: {'Guess:': [1, 2, 3, 4],\n",
       "              'Correct Number:': 1,\n",
       "              'Correct Location:': 1}})"
      ]
     },
     "execution_count": 136,
     "metadata": {},
     "output_type": "execute_result"
    }
   ],
   "source": [
    "d"
   ]
  },
  {
   "cell_type": "code",
   "execution_count": 144,
   "metadata": {},
   "outputs": [
    {
     "name": "stdout",
     "output_type": "stream",
     "text": [
      "1 {'Guess:': [1, 2, 3, 4], 'Correct Number:': 1, 'Correct Location:': 1}\n",
      "1 [1, 2, 3, 4]\n",
      "1 Guess: [1, 2, 3, 4]\n",
      "1 Correct Number: 1\n",
      "1 Correct Location: 1\n",
      "2 {'Guess:': [1, 2, 3, 4], 'Correct Number:': 1, 'Correct Location:': 1}\n",
      "2 [1, 2, 3, 4]\n",
      "2 Guess: [1, 2, 3, 4]\n",
      "2 Correct Number: 1\n",
      "2 Correct Location: 1\n",
      "3 {'Guess:': [1, 2, 3, 4], 'Correct Number:': 1, 'Correct Location:': 1}\n",
      "3 [1, 2, 3, 4]\n",
      "3 Guess: [1, 2, 3, 4]\n",
      "3 Correct Number: 1\n",
      "3 Correct Location: 1\n"
     ]
    }
   ],
   "source": [
    "for keys,values in d.items():\n",
    "    print (keys,values)\n",
    "    print(keys,values['Guess:'])\n",
    "    for k,v in values.items():\n",
    "        print (keys,k,v)"
   ]
  },
  {
   "cell_type": "code",
   "execution_count": null,
   "metadata": {},
   "outputs": [],
   "source": []
  }
 ],
 "metadata": {
  "kernelspec": {
   "display_name": "Python 3",
   "language": "python",
   "name": "python3"
  },
  "language_info": {
   "codemirror_mode": {
    "name": "ipython",
    "version": 3
   },
   "file_extension": ".py",
   "mimetype": "text/x-python",
   "name": "python",
   "nbconvert_exporter": "python",
   "pygments_lexer": "ipython3",
   "version": "3.6.8"
  }
 },
 "nbformat": 4,
 "nbformat_minor": 4
}
