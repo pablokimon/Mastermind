{
 "cells": [
  {
   "cell_type": "code",
   "execution_count": 8,
   "metadata": {},
   "outputs": [],
   "source": [
    "import requests\n",
    "import json\n",
    "from collections import defaultdict\n",
    "import sys"
   ]
  },
  {
   "cell_type": "code",
   "execution_count": 9,
   "metadata": {},
   "outputs": [],
   "source": [
    "def getRandomPattern(pattern_length,pattern_start,pattern_end):\n",
    "    '''returns a list of a series of random numbers based on the parameters passed in.\n",
    "    \n",
    "    '''\n",
    "    print('Please wait...generating random pattern...')\n",
    "    url = 'https://www.random.org/integers/' #integer generator\n",
    "    params = {'num':pattern_length,'min':pattern_start,'max':pattern_end,'col':1,'base':10,'format':'plain','rnd':'new'} # api parameters\n",
    "    response = requests.get(url,params) #save the contents of the get request to a variable, returns a plain text list of numbers with \\n new line after each number\n",
    "    pattern = [int(x) for x in response.text.strip('\\n').split('\\n')] #parse the response into a nice list: remove the last \\n from the string, split on \\n and use list comprehension to convert each string into an integer\n",
    "\n",
    "    return pattern"
   ]
  },
  {
   "cell_type": "raw",
   "metadata": {},
   "source": [
    "https://www.random.org/integers/?num=4&min=1&max=6&col=1&base=10&format=plain&rnd=new"
   ]
  },
  {
   "cell_type": "code",
   "execution_count": 10,
   "metadata": {},
   "outputs": [],
   "source": [
    "def checkGuess(guess,pattern):\n",
    "    '''\n",
    "    Compares a guess by the user to the computer's pattern. \n",
    "    This function expects both guess and pattern to be lists of the same size.\n",
    "    This similarity is checked when the guess is captured before it is passed here.\n",
    "    We iterate through the guess from index 0.\n",
    "    First we check for correct number and location and then correct number from remaining elements.\n",
    "    '''\n",
    "    \n",
    "    correctLocation = 0 #counter for number of guesses that are in the correct number and location\n",
    "    correctNumber = 0 #conter for the number of guesses that are only a correct number but NOT in the correct place\n",
    "    pattern_copy = pattern.copy() # a copy of the pattern so the correct location numbers can be removed and compared to the other guess values\n",
    "    guess_copy = guess.copy() # a copy of the guess so that the correct location numbers can be removed and the remaining compared to the pattern_\n",
    "    \n",
    "    for x in range(len(guess)): #loops over the length of the guess, uses x as an index of the list\n",
    "        if guess[x] == pattern[x]: #check if the index of the guess is in the correct place and correct number then increment counter\n",
    "            correctLocation += 1 \n",
    "            pattern_copy.remove(guess[x]) #remove first instance of current correct guess number from pattern_copy so it doesn't get counted again\n",
    "            guess_copy.remove(guess[x]) # remove first instance of current correct guess number from guess_copy so it doesn't get counted again\n",
    "    \n",
    "    for x in guess_copy: # to find number only matches, iterate through remaining values in guess_copy to check if they are included in remaing pattern_copy\n",
    "        if x in pattern_copy: #if element of guess_copy is in pattern_copy,\n",
    "            correctNumber += 1 # increment correct number\n",
    "            pattern_copy.remove(x) # and remove from pattern_copy so it doesn't get counted again\n",
    "    \n",
    "    return correctNumber,correctLocation #return the counts of correct number only and correct number and location, respectively"
   ]
  },
  {
   "cell_type": "code",
   "execution_count": 11,
   "metadata": {},
   "outputs": [
    {
     "data": {
      "text/plain": [
       "(1, 2)"
      ]
     },
     "execution_count": 11,
     "metadata": {},
     "output_type": "execute_result"
    }
   ],
   "source": [
    "checkGuess([4,2,2,2],[1,2,2,4])"
   ]
  },
  {
   "cell_type": "code",
   "execution_count": 12,
   "metadata": {},
   "outputs": [],
   "source": [
    "def guessInRange(guess,pattern_range):\n",
    "    '''iterates through the guess and checks if the elements are in the range of the pattern,\n",
    "    as soon as an element is found outside the range, return false'''\n",
    "    for g in guess:\n",
    "        if g not in pattern_range:\n",
    "            print(\"Sorry one of your guesses was outside the range\")\n",
    "            return False\n",
    "        else:\n",
    "            return True"
   ]
  },
  {
   "cell_type": "code",
   "execution_count": 13,
   "metadata": {},
   "outputs": [],
   "source": [
    "def giveHint():\n",
    "    pass"
   ]
  },
  {
   "cell_type": "code",
   "execution_count": 14,
   "metadata": {},
   "outputs": [],
   "source": [
    "def getGuess(pattern_length,pattern_start,pattern_end,pattern_range):\n",
    "    '''\n",
    "    This function captures the guess via keyboard input and verifies that the guess is the same length as the pattern\n",
    "    and that the elements of the guess are integers that fall within the pattern range. \n",
    "    This function also provides for expanded functions like quit, hint, restart, etc.'''\n",
    "    \n",
    "    while True:\n",
    "        try:\n",
    "            guess = input('Please enter %d numbers between %d and %d inclusive ' %(pattern_length,pattern_start,pattern_end))\n",
    "            \n",
    "            if guess.lower() == 'q' or guess.lower() == 'quit':\n",
    "                sys.exit()\n",
    "            \n",
    "            if guess.lower() == 'r' or guess.lower() == 'reset' or guess.lower() == 'restart':\n",
    "                startGame()\n",
    "                \n",
    "            if guess.lower() == 'h' or guess.lower() == 'hint':\n",
    "                giveHint()\n",
    "                continue\n",
    "            guess =[int(g) for g in guess]\n",
    "            \n",
    "        except ValueError:\n",
    "            print ('Oops you entered something other than numbers')\n",
    "            continue\n",
    "        \n",
    "        if len(guess) != pattern_length:\n",
    "            print (\"Oops your guess wasn't %d numbers long\" %pattern_length)\n",
    "            continue\n",
    "\n",
    "        elif not guessInRange(guess,pattern_range): #I tried to get this working in an if statement, but had to move it outside to a function\n",
    "            continue\n",
    "            \n",
    "        else:\n",
    "            return guess                   "
   ]
  },
  {
   "cell_type": "code",
   "execution_count": 15,
   "metadata": {},
   "outputs": [],
   "source": [
    "def setParameters(pattern_length, pattern_start, pattern_end, max_guess):\n",
    "    print ('Press the corresponding number to change a parameter or press enter to return to the game:')\n",
    "    print ('1. Pattern Length', pattern_length)\n",
    "    \n",
    "    print ('''\n",
    "    Press the corresponding number to change a parameter or press enter to return to the game:\n",
    "    1. Pattern Length: {}\n",
    "    2. Pattern Range Start: {}\n",
    "    3. Pattern Range End: {}\n",
    "    4. Maximium Number of Guesses: {}\n",
    "    0. Return to Game\n",
    "    '''.format(pattern_length, pattern_start, pattern_end, max_guess))\n",
    "    parameter_number = int(input())\n",
    "    \n",
    "    pass"
   ]
  },
  {
   "cell_type": "code",
   "execution_count": 16,
   "metadata": {},
   "outputs": [],
   "source": [
    "def mastermindTumbleLogo():\n",
    "    from random import randint \n",
    "    from random import shuffle\n",
    "    from time import sleep\n",
    "    mastermind = [m.upper() for m in 'mastermind']\n",
    "    mastermind_shuffled = mastermind.copy()\n",
    "    for x in range(10):\n",
    "        shuffle(mastermind_shuffled)\n",
    "        print('\\r',''.join(mastermind_shuffled),end='')\n",
    "        sleep(0.5)\n",
    "    print('\\r','*********',end='')\n",
    "    sleep(0.5)\n",
    "    print ('\\r',''.join(mastermind))\n",
    "    sleep(2)\n",
    "    print ('\\r','')\n"
   ]
  },
  {
   "cell_type": "code",
   "execution_count": 21,
   "metadata": {},
   "outputs": [],
   "source": [
    "import os\n",
    "import subprocess\n",
    "\n",
    "def clear():\n",
    "    if os.name in ('nt','dos'):\n",
    "        subprocess.call(\"cls\")\n",
    "    elif os.name in ('linux','osx','posix'):\n",
    "        subprocess.call(\"clear\")\n",
    "    else:\n",
    "        print(\"\\n\") * 120"
   ]
  },
  {
   "cell_type": "code",
   "execution_count": 22,
   "metadata": {},
   "outputs": [],
   "source": [
    "def startGame():\n",
    "    \n",
    "    pattern_length = 4\n",
    "    pattern_start = 1\n",
    "    pattern_end = 8\n",
    "    pattern_range = [r for r in range(pattern_start,pattern_end+1)]\n",
    "    guess_number = 0\n",
    "    max_guess = 10\n",
    "    result_dict = defaultdict(dict)\n",
    "    guess = [1,2,3,4]\n",
    "    win = False\n",
    "    \n",
    "    mastermindTumbleLogo()\n",
    "    \n",
    "    print('''Welcome to MASTERMIND\n",
    "    \n",
    "Game rules:\n",
    "\n",
    "At the start of the game the computer will randomly select a pattern of four different numbers from a total of 8 different numbers.\n",
    "The player will have 10 chances to correctly guess the pattern.\n",
    "\n",
    "At the end of each guess attempt, \n",
    "the computer will provide feedback whether the player:\n",
    "    •had guessed a number correctly, and/or\n",
    "    •had guessed a number and location correctly.\n",
    "\n",
    "The computer will not tell you which numbers you guessed correctly, \n",
    "you must use a combination of skill, luck and deductive reasoning to win!\n",
    "\n",
    "\n",
    "\n",
    "Example game play:\n",
    "If the pattern was [4,5,6,7]\n",
    "and you guessed    [7,5,1,2]\n",
    "\n",
    "The computer will tell you:\n",
    "Correct Location and Number: 1, Correct Number Only: 1\n",
    "\n",
    "Which means:\n",
    "you got one number and location right (5)\n",
    "you got one number right (7) but in the wrong location\n",
    "\n",
    "Got it?\n",
    "\n",
    "Press enter to start a new game!\n",
    "\n",
    "Press \\'s' to change game settings\n",
    "Press \\'q' at anytime to quit \n",
    "    ''')\n",
    "    \n",
    "    if input().lower()=='set':\n",
    "        setParameters(pattern_length, pattern_start, pattern_end, max_guess)\n",
    "        \n",
    "    pattern = getRandomPattern(pattern_length,pattern_start,pattern_end)\n",
    "    clear()\n",
    "    while guess_number < max_guess:\n",
    "        print ('You only have {} guesses remaining!'.format(max_guess-guess_number))\n",
    "        guess_number += 1\n",
    "        print('Guess # {}.'.format(guess_number),end='')\n",
    "        guess = getGuess(pattern_length,pattern_start,pattern_end,pattern_range)\n",
    "        correctNumber, correctLocation = checkGuess(guess,pattern)\n",
    "        #print(correctNumber, correctLocation)\n",
    "        result_dict[guess_number]={'Guess':guess,'Correct Number':correctNumber, 'Correct Location':correctLocation}\n",
    "        for keys,values in result_dict.items():\n",
    "            print('Guess #',keys,values['Guess'],'Correct Number Only:',values['Correct Number'],'Correct Number and Location:',values['Correct Location'])\n",
    "            '''\n",
    "        for keys_guess_number,values_guess_elements in result_dict.items():\n",
    "            print ('Guess # ',keys_guess_number,values_guess_elements)\n",
    "           \n",
    "            for keys,values in values_guess_elements.items():\n",
    "                print ('Guess # ',keys_guess_number,values_guess_elements['Guess'],keys,values)\n",
    "            '''\n",
    "        \n",
    "        \n",
    "        if correctLocation == 4:\n",
    "            win = True\n",
    "            break\n",
    "            \n",
    "    if win:\n",
    "        print ('Congratulations! You guessed the pattern in {} guesses! the pattern was {}'.format(guess_number,pattern))\n",
    "    else:\n",
    "        print ('Too Bad you lost, the pattern was ',pattern)\n",
    "\n"
   ]
  },
  {
   "cell_type": "code",
   "execution_count": 24,
   "metadata": {},
   "outputs": [
    {
     "name": "stdout",
     "output_type": "stream",
     "text": [
      " MASTERMIND\n",
      " \n",
      "Welcome to MASTERMIND\n",
      "    \n",
      "Game rules:\n",
      "\n",
      "At the start of the game the computer will randomly select a pattern of four different numbers from a total of 8 different numbers.\n",
      "The player will have 10 chances to correctly guess the pattern.\n",
      "\n",
      "At the end of each guess attempt, \n",
      "the computer will provide feedback whether the player:\n",
      "    •had guessed a number correctly, and/or\n",
      "    •had guessed a number and location correctly.\n",
      "\n",
      "The computer will not tell you which numbers you guessed correctly, \n",
      "you must use a combination of skill, luck and deductive reasoning to win!\n",
      "\n",
      "\n",
      "\n",
      "Example game play:\n",
      "If the pattern was [4,5,6,7]\n",
      "and you guessed    [7,5,1,2]\n",
      "\n",
      "The computer will tell you:\n",
      "Correct Location and Number: 1, Correct Number Only: 1\n",
      "\n",
      "Which means:\n",
      "you got one number and location right (5)\n",
      "you got one number right (7) but in the wrong location\n",
      "\n",
      "Got it?\n",
      "\n",
      "Press enter to start a new game!\n",
      "\n",
      "Press 's' to change game settings\n",
      "Press 'q' at anytime to quit \n",
      "    \n"
     ]
    },
    {
     "name": "stdin",
     "output_type": "stream",
     "text": [
      " \n"
     ]
    },
    {
     "name": "stdout",
     "output_type": "stream",
     "text": [
      "Please wait...generating random pattern...\n",
      "You only have 10 guesses remaining!\n",
      "Guess # 1."
     ]
    },
    {
     "name": "stdin",
     "output_type": "stream",
     "text": [
      "Please enter 4 numbers between 1 and 8 inclusive  r\n"
     ]
    },
    {
     "name": "stdout",
     "output_type": "stream",
     "text": [
      " MASTERMIND\n",
      " \n",
      "Welcome to MASTERMIND\n",
      "    \n",
      "Game rules:\n",
      "\n",
      "At the start of the game the computer will randomly select a pattern of four different numbers from a total of 8 different numbers.\n",
      "The player will have 10 chances to correctly guess the pattern.\n",
      "\n",
      "At the end of each guess attempt, \n",
      "the computer will provide feedback whether the player:\n",
      "    •had guessed a number correctly, and/or\n",
      "    •had guessed a number and location correctly.\n",
      "\n",
      "The computer will not tell you which numbers you guessed correctly, \n",
      "you must use a combination of skill, luck and deductive reasoning to win!\n",
      "\n",
      "\n",
      "\n",
      "Example game play:\n",
      "If the pattern was [4,5,6,7]\n",
      "and you guessed    [7,5,1,2]\n",
      "\n",
      "The computer will tell you:\n",
      "Correct Location and Number: 1, Correct Number Only: 1\n",
      "\n",
      "Which means:\n",
      "you got one number and location right (5)\n",
      "you got one number right (7) but in the wrong location\n",
      "\n",
      "Got it?\n",
      "\n",
      "Press enter to start a new game!\n",
      "\n",
      "Press 's' to change game settings\n",
      "Press 'q' at anytime to quit \n",
      "    \n"
     ]
    },
    {
     "ename": "KeyboardInterrupt",
     "evalue": "",
     "output_type": "error",
     "traceback": [
      "\u001b[0;31m---------------------------------------------------------------------------\u001b[0m",
      "\u001b[0;31mKeyboardInterrupt\u001b[0m                         Traceback (most recent call last)",
      "\u001b[0;32m/anaconda3/lib/python3.6/site-packages/ipykernel/kernelbase.py\u001b[0m in \u001b[0;36m_input_request\u001b[0;34m(self, prompt, ident, parent, password)\u001b[0m\n\u001b[1;32m    877\u001b[0m             \u001b[0;32mtry\u001b[0m\u001b[0;34m:\u001b[0m\u001b[0;34m\u001b[0m\u001b[0;34m\u001b[0m\u001b[0m\n\u001b[0;32m--> 878\u001b[0;31m                 \u001b[0mident\u001b[0m\u001b[0;34m,\u001b[0m \u001b[0mreply\u001b[0m \u001b[0;34m=\u001b[0m \u001b[0mself\u001b[0m\u001b[0;34m.\u001b[0m\u001b[0msession\u001b[0m\u001b[0;34m.\u001b[0m\u001b[0mrecv\u001b[0m\u001b[0;34m(\u001b[0m\u001b[0mself\u001b[0m\u001b[0;34m.\u001b[0m\u001b[0mstdin_socket\u001b[0m\u001b[0;34m,\u001b[0m \u001b[0;36m0\u001b[0m\u001b[0;34m)\u001b[0m\u001b[0;34m\u001b[0m\u001b[0;34m\u001b[0m\u001b[0m\n\u001b[0m\u001b[1;32m    879\u001b[0m             \u001b[0;32mexcept\u001b[0m \u001b[0mException\u001b[0m\u001b[0;34m:\u001b[0m\u001b[0;34m\u001b[0m\u001b[0;34m\u001b[0m\u001b[0m\n",
      "\u001b[0;32m/anaconda3/lib/python3.6/site-packages/jupyter_client/session.py\u001b[0m in \u001b[0;36mrecv\u001b[0;34m(self, socket, mode, content, copy)\u001b[0m\n\u001b[1;32m    802\u001b[0m         \u001b[0;32mtry\u001b[0m\u001b[0;34m:\u001b[0m\u001b[0;34m\u001b[0m\u001b[0;34m\u001b[0m\u001b[0m\n\u001b[0;32m--> 803\u001b[0;31m             \u001b[0mmsg_list\u001b[0m \u001b[0;34m=\u001b[0m \u001b[0msocket\u001b[0m\u001b[0;34m.\u001b[0m\u001b[0mrecv_multipart\u001b[0m\u001b[0;34m(\u001b[0m\u001b[0mmode\u001b[0m\u001b[0;34m,\u001b[0m \u001b[0mcopy\u001b[0m\u001b[0;34m=\u001b[0m\u001b[0mcopy\u001b[0m\u001b[0;34m)\u001b[0m\u001b[0;34m\u001b[0m\u001b[0;34m\u001b[0m\u001b[0m\n\u001b[0m\u001b[1;32m    804\u001b[0m         \u001b[0;32mexcept\u001b[0m \u001b[0mzmq\u001b[0m\u001b[0;34m.\u001b[0m\u001b[0mZMQError\u001b[0m \u001b[0;32mas\u001b[0m \u001b[0me\u001b[0m\u001b[0;34m:\u001b[0m\u001b[0;34m\u001b[0m\u001b[0;34m\u001b[0m\u001b[0m\n",
      "\u001b[0;32m/anaconda3/lib/python3.6/site-packages/zmq/sugar/socket.py\u001b[0m in \u001b[0;36mrecv_multipart\u001b[0;34m(self, flags, copy, track)\u001b[0m\n\u001b[1;32m    466\u001b[0m         \"\"\"\n\u001b[0;32m--> 467\u001b[0;31m         \u001b[0mparts\u001b[0m \u001b[0;34m=\u001b[0m \u001b[0;34m[\u001b[0m\u001b[0mself\u001b[0m\u001b[0;34m.\u001b[0m\u001b[0mrecv\u001b[0m\u001b[0;34m(\u001b[0m\u001b[0mflags\u001b[0m\u001b[0;34m,\u001b[0m \u001b[0mcopy\u001b[0m\u001b[0;34m=\u001b[0m\u001b[0mcopy\u001b[0m\u001b[0;34m,\u001b[0m \u001b[0mtrack\u001b[0m\u001b[0;34m=\u001b[0m\u001b[0mtrack\u001b[0m\u001b[0;34m)\u001b[0m\u001b[0;34m]\u001b[0m\u001b[0;34m\u001b[0m\u001b[0;34m\u001b[0m\u001b[0m\n\u001b[0m\u001b[1;32m    468\u001b[0m         \u001b[0;31m# have first part already, only loop while more to receive\u001b[0m\u001b[0;34m\u001b[0m\u001b[0;34m\u001b[0m\u001b[0;34m\u001b[0m\u001b[0m\n",
      "\u001b[0;32mzmq/backend/cython/socket.pyx\u001b[0m in \u001b[0;36mzmq.backend.cython.socket.Socket.recv\u001b[0;34m()\u001b[0m\n",
      "\u001b[0;32mzmq/backend/cython/socket.pyx\u001b[0m in \u001b[0;36mzmq.backend.cython.socket.Socket.recv\u001b[0;34m()\u001b[0m\n",
      "\u001b[0;32mzmq/backend/cython/socket.pyx\u001b[0m in \u001b[0;36mzmq.backend.cython.socket._recv_copy\u001b[0;34m()\u001b[0m\n",
      "\u001b[0;32m/anaconda3/lib/python3.6/site-packages/zmq/backend/cython/checkrc.pxd\u001b[0m in \u001b[0;36mzmq.backend.cython.checkrc._check_rc\u001b[0;34m()\u001b[0m\n",
      "\u001b[0;31mKeyboardInterrupt\u001b[0m: ",
      "\nDuring handling of the above exception, another exception occurred:\n",
      "\u001b[0;31mKeyboardInterrupt\u001b[0m                         Traceback (most recent call last)",
      "\u001b[0;32m<ipython-input-24-051476c02cf7>\u001b[0m in \u001b[0;36m<module>\u001b[0;34m\u001b[0m\n\u001b[0;32m----> 1\u001b[0;31m \u001b[0mstartGame\u001b[0m\u001b[0;34m(\u001b[0m\u001b[0;34m)\u001b[0m\u001b[0;34m\u001b[0m\u001b[0;34m\u001b[0m\u001b[0m\n\u001b[0m",
      "\u001b[0;32m<ipython-input-22-f809da576b8c>\u001b[0m in \u001b[0;36mstartGame\u001b[0;34m()\u001b[0m\n\u001b[1;32m     58\u001b[0m         \u001b[0mguess_number\u001b[0m \u001b[0;34m+=\u001b[0m \u001b[0;36m1\u001b[0m\u001b[0;34m\u001b[0m\u001b[0;34m\u001b[0m\u001b[0m\n\u001b[1;32m     59\u001b[0m         \u001b[0mprint\u001b[0m\u001b[0;34m(\u001b[0m\u001b[0;34m'Guess # {}.'\u001b[0m\u001b[0;34m.\u001b[0m\u001b[0mformat\u001b[0m\u001b[0;34m(\u001b[0m\u001b[0mguess_number\u001b[0m\u001b[0;34m)\u001b[0m\u001b[0;34m,\u001b[0m\u001b[0mend\u001b[0m\u001b[0;34m=\u001b[0m\u001b[0;34m''\u001b[0m\u001b[0;34m)\u001b[0m\u001b[0;34m\u001b[0m\u001b[0;34m\u001b[0m\u001b[0m\n\u001b[0;32m---> 60\u001b[0;31m         \u001b[0mguess\u001b[0m \u001b[0;34m=\u001b[0m \u001b[0mgetGuess\u001b[0m\u001b[0;34m(\u001b[0m\u001b[0mpattern_length\u001b[0m\u001b[0;34m,\u001b[0m\u001b[0mpattern_start\u001b[0m\u001b[0;34m,\u001b[0m\u001b[0mpattern_end\u001b[0m\u001b[0;34m,\u001b[0m\u001b[0mpattern_range\u001b[0m\u001b[0;34m)\u001b[0m\u001b[0;34m\u001b[0m\u001b[0;34m\u001b[0m\u001b[0m\n\u001b[0m\u001b[1;32m     61\u001b[0m         \u001b[0mcorrectNumber\u001b[0m\u001b[0;34m,\u001b[0m \u001b[0mcorrectLocation\u001b[0m \u001b[0;34m=\u001b[0m \u001b[0mcheckGuess\u001b[0m\u001b[0;34m(\u001b[0m\u001b[0mguess\u001b[0m\u001b[0;34m,\u001b[0m\u001b[0mpattern\u001b[0m\u001b[0;34m)\u001b[0m\u001b[0;34m\u001b[0m\u001b[0;34m\u001b[0m\u001b[0m\n\u001b[1;32m     62\u001b[0m         \u001b[0;31m#print(correctNumber, correctLocation)\u001b[0m\u001b[0;34m\u001b[0m\u001b[0;34m\u001b[0m\u001b[0;34m\u001b[0m\u001b[0m\n",
      "\u001b[0;32m<ipython-input-14-f99c9612f9db>\u001b[0m in \u001b[0;36mgetGuess\u001b[0;34m(pattern_length, pattern_start, pattern_end, pattern_range)\u001b[0m\n\u001b[1;32m     13\u001b[0m \u001b[0;34m\u001b[0m\u001b[0m\n\u001b[1;32m     14\u001b[0m             \u001b[0;32mif\u001b[0m \u001b[0mguess\u001b[0m\u001b[0;34m.\u001b[0m\u001b[0mlower\u001b[0m\u001b[0;34m(\u001b[0m\u001b[0;34m)\u001b[0m \u001b[0;34m==\u001b[0m \u001b[0;34m'r'\u001b[0m \u001b[0;32mor\u001b[0m \u001b[0mguess\u001b[0m\u001b[0;34m.\u001b[0m\u001b[0mlower\u001b[0m\u001b[0;34m(\u001b[0m\u001b[0;34m)\u001b[0m \u001b[0;34m==\u001b[0m \u001b[0;34m'reset'\u001b[0m \u001b[0;32mor\u001b[0m \u001b[0mguess\u001b[0m\u001b[0;34m.\u001b[0m\u001b[0mlower\u001b[0m\u001b[0;34m(\u001b[0m\u001b[0;34m)\u001b[0m \u001b[0;34m==\u001b[0m \u001b[0;34m'restart'\u001b[0m\u001b[0;34m:\u001b[0m\u001b[0;34m\u001b[0m\u001b[0;34m\u001b[0m\u001b[0m\n\u001b[0;32m---> 15\u001b[0;31m                 \u001b[0mstartGame\u001b[0m\u001b[0;34m(\u001b[0m\u001b[0;34m)\u001b[0m\u001b[0;34m\u001b[0m\u001b[0;34m\u001b[0m\u001b[0m\n\u001b[0m\u001b[1;32m     16\u001b[0m \u001b[0;34m\u001b[0m\u001b[0m\n\u001b[1;32m     17\u001b[0m             \u001b[0;32mif\u001b[0m \u001b[0mguess\u001b[0m\u001b[0;34m.\u001b[0m\u001b[0mlower\u001b[0m\u001b[0;34m(\u001b[0m\u001b[0;34m)\u001b[0m \u001b[0;34m==\u001b[0m \u001b[0;34m'h'\u001b[0m \u001b[0;32mor\u001b[0m \u001b[0mguess\u001b[0m\u001b[0;34m.\u001b[0m\u001b[0mlower\u001b[0m\u001b[0;34m(\u001b[0m\u001b[0;34m)\u001b[0m \u001b[0;34m==\u001b[0m \u001b[0;34m'hint'\u001b[0m\u001b[0;34m:\u001b[0m\u001b[0;34m\u001b[0m\u001b[0;34m\u001b[0m\u001b[0m\n",
      "\u001b[0;32m<ipython-input-22-f809da576b8c>\u001b[0m in \u001b[0;36mstartGame\u001b[0;34m()\u001b[0m\n\u001b[1;32m     49\u001b[0m     ''')\n\u001b[1;32m     50\u001b[0m \u001b[0;34m\u001b[0m\u001b[0m\n\u001b[0;32m---> 51\u001b[0;31m     \u001b[0;32mif\u001b[0m \u001b[0minput\u001b[0m\u001b[0;34m(\u001b[0m\u001b[0;34m)\u001b[0m\u001b[0;34m.\u001b[0m\u001b[0mlower\u001b[0m\u001b[0;34m(\u001b[0m\u001b[0;34m)\u001b[0m\u001b[0;34m==\u001b[0m\u001b[0;34m'set'\u001b[0m\u001b[0;34m:\u001b[0m\u001b[0;34m\u001b[0m\u001b[0;34m\u001b[0m\u001b[0m\n\u001b[0m\u001b[1;32m     52\u001b[0m         \u001b[0msetParameters\u001b[0m\u001b[0;34m(\u001b[0m\u001b[0mpattern_length\u001b[0m\u001b[0;34m,\u001b[0m \u001b[0mpattern_start\u001b[0m\u001b[0;34m,\u001b[0m \u001b[0mpattern_end\u001b[0m\u001b[0;34m,\u001b[0m \u001b[0mmax_guess\u001b[0m\u001b[0;34m)\u001b[0m\u001b[0;34m\u001b[0m\u001b[0;34m\u001b[0m\u001b[0m\n\u001b[1;32m     53\u001b[0m \u001b[0;34m\u001b[0m\u001b[0m\n",
      "\u001b[0;32m/anaconda3/lib/python3.6/site-packages/ipykernel/kernelbase.py\u001b[0m in \u001b[0;36mraw_input\u001b[0;34m(self, prompt)\u001b[0m\n\u001b[1;32m    851\u001b[0m             \u001b[0mself\u001b[0m\u001b[0;34m.\u001b[0m\u001b[0m_parent_ident\u001b[0m\u001b[0;34m,\u001b[0m\u001b[0;34m\u001b[0m\u001b[0;34m\u001b[0m\u001b[0m\n\u001b[1;32m    852\u001b[0m             \u001b[0mself\u001b[0m\u001b[0;34m.\u001b[0m\u001b[0m_parent_header\u001b[0m\u001b[0;34m,\u001b[0m\u001b[0;34m\u001b[0m\u001b[0;34m\u001b[0m\u001b[0m\n\u001b[0;32m--> 853\u001b[0;31m             \u001b[0mpassword\u001b[0m\u001b[0;34m=\u001b[0m\u001b[0;32mFalse\u001b[0m\u001b[0;34m,\u001b[0m\u001b[0;34m\u001b[0m\u001b[0;34m\u001b[0m\u001b[0m\n\u001b[0m\u001b[1;32m    854\u001b[0m         )\n\u001b[1;32m    855\u001b[0m \u001b[0;34m\u001b[0m\u001b[0m\n",
      "\u001b[0;32m/anaconda3/lib/python3.6/site-packages/ipykernel/kernelbase.py\u001b[0m in \u001b[0;36m_input_request\u001b[0;34m(self, prompt, ident, parent, password)\u001b[0m\n\u001b[1;32m    881\u001b[0m             \u001b[0;32mexcept\u001b[0m \u001b[0mKeyboardInterrupt\u001b[0m\u001b[0;34m:\u001b[0m\u001b[0;34m\u001b[0m\u001b[0;34m\u001b[0m\u001b[0m\n\u001b[1;32m    882\u001b[0m                 \u001b[0;31m# re-raise KeyboardInterrupt, to truncate traceback\u001b[0m\u001b[0;34m\u001b[0m\u001b[0;34m\u001b[0m\u001b[0;34m\u001b[0m\u001b[0m\n\u001b[0;32m--> 883\u001b[0;31m                 \u001b[0;32mraise\u001b[0m \u001b[0mKeyboardInterrupt\u001b[0m\u001b[0;34m\u001b[0m\u001b[0;34m\u001b[0m\u001b[0m\n\u001b[0m\u001b[1;32m    884\u001b[0m             \u001b[0;32melse\u001b[0m\u001b[0;34m:\u001b[0m\u001b[0;34m\u001b[0m\u001b[0;34m\u001b[0m\u001b[0m\n\u001b[1;32m    885\u001b[0m                 \u001b[0;32mbreak\u001b[0m\u001b[0;34m\u001b[0m\u001b[0;34m\u001b[0m\u001b[0m\n",
      "\u001b[0;31mKeyboardInterrupt\u001b[0m: "
     ]
    }
   ],
   "source": [
    "startGame()"
   ]
  },
  {
   "cell_type": "code",
   "execution_count": 23,
   "metadata": {},
   "outputs": [],
   "source": [
    "d =defaultdict(dict)"
   ]
  },
  {
   "cell_type": "code",
   "execution_count": 53,
   "metadata": {},
   "outputs": [],
   "source": [
    "    pattern_length = 4\n",
    "    pattern_start = 1\n",
    "    pattern_end = 8\n",
    "    pattern_range = [r for r in range(pattern_start,pattern_end+1)]"
   ]
  },
  {
   "cell_type": "code",
   "execution_count": 105,
   "metadata": {},
   "outputs": [],
   "source": [
    "#pattern_range.remove(2)\n",
    "#pattern_range.insert(3,2)\n",
    "prc=pattern_range.copy()"
   ]
  },
  {
   "cell_type": "code",
   "execution_count": 112,
   "metadata": {},
   "outputs": [
    {
     "data": {
      "text/plain": [
       "[7, 8]"
      ]
     },
     "execution_count": 112,
     "metadata": {},
     "output_type": "execute_result"
    }
   ],
   "source": [
    "del prc[0]\n",
    "prc"
   ]
  },
  {
   "cell_type": "code",
   "execution_count": 96,
   "metadata": {},
   "outputs": [
    {
     "name": "stdout",
     "output_type": "stream",
     "text": [
      "[2, 2, 2, 2] [1, 2, 2, 4]\n",
      "2 1\n",
      "correct location:  0\n",
      "correct number:  1\n",
      "[2, 2, 2, 2] [1, 2, 2, 4]\n",
      "2 2\n",
      "correct location:  1\n",
      "correct number:  1\n",
      "[2, 2, 2, 2] [1, 2, 2, 4]\n",
      "2 2\n"
     ]
    },
    {
     "ename": "IndexError",
     "evalue": "list index out of range",
     "output_type": "error",
     "traceback": [
      "\u001b[0;31m---------------------------------------------------------------------------\u001b[0m",
      "\u001b[0;31mIndexError\u001b[0m                                Traceback (most recent call last)",
      "\u001b[0;32m<ipython-input-96-ad101c0e2d19>\u001b[0m in \u001b[0;36m<module>\u001b[0;34m\u001b[0m\n\u001b[0;32m----> 1\u001b[0;31m \u001b[0mcheckGuess\u001b[0m\u001b[0;34m(\u001b[0m\u001b[0;34m[\u001b[0m\u001b[0;36m2\u001b[0m\u001b[0;34m,\u001b[0m\u001b[0;36m2\u001b[0m\u001b[0;34m,\u001b[0m\u001b[0;36m2\u001b[0m\u001b[0;34m,\u001b[0m\u001b[0;36m2\u001b[0m\u001b[0;34m]\u001b[0m\u001b[0;34m,\u001b[0m\u001b[0;34m[\u001b[0m\u001b[0;36m1\u001b[0m\u001b[0;34m,\u001b[0m\u001b[0;36m2\u001b[0m\u001b[0;34m,\u001b[0m\u001b[0;36m2\u001b[0m\u001b[0;34m,\u001b[0m\u001b[0;36m4\u001b[0m\u001b[0;34m]\u001b[0m\u001b[0;34m)\u001b[0m\u001b[0;34m\u001b[0m\u001b[0;34m\u001b[0m\u001b[0m\n\u001b[0m",
      "\u001b[0;32m<ipython-input-95-8271d9d5d6cb>\u001b[0m in \u001b[0;36mcheckGuess\u001b[0;34m(guess, pattern)\u001b[0m\n\u001b[1;32m     13\u001b[0m         \u001b[0mprint\u001b[0m\u001b[0;34m(\u001b[0m\u001b[0mguess\u001b[0m\u001b[0;34m,\u001b[0m \u001b[0mpattern\u001b[0m\u001b[0;34m)\u001b[0m\u001b[0;34m\u001b[0m\u001b[0;34m\u001b[0m\u001b[0m\n\u001b[1;32m     14\u001b[0m         \u001b[0mprint\u001b[0m\u001b[0;34m(\u001b[0m\u001b[0mguess\u001b[0m\u001b[0;34m[\u001b[0m\u001b[0mx\u001b[0m\u001b[0;34m]\u001b[0m\u001b[0;34m,\u001b[0m\u001b[0mpattern\u001b[0m\u001b[0;34m[\u001b[0m\u001b[0mx\u001b[0m\u001b[0;34m]\u001b[0m\u001b[0;34m)\u001b[0m\u001b[0;34m\u001b[0m\u001b[0;34m\u001b[0m\u001b[0m\n\u001b[0;32m---> 15\u001b[0;31m         \u001b[0;32mif\u001b[0m \u001b[0mguess\u001b[0m\u001b[0;34m[\u001b[0m\u001b[0mx\u001b[0m\u001b[0;34m]\u001b[0m \u001b[0;34m==\u001b[0m \u001b[0mpattern_check\u001b[0m\u001b[0;34m[\u001b[0m\u001b[0mx\u001b[0m\u001b[0;34m]\u001b[0m\u001b[0;34m:\u001b[0m \u001b[0;31m#check if the index of the guess is in the correct place and correct number then increment counter\u001b[0m\u001b[0;34m\u001b[0m\u001b[0;34m\u001b[0m\u001b[0m\n\u001b[0m\u001b[1;32m     16\u001b[0m             \u001b[0mcorrectPlace\u001b[0m \u001b[0;34m+=\u001b[0m \u001b[0;36m1\u001b[0m\u001b[0;34m\u001b[0m\u001b[0;34m\u001b[0m\u001b[0m\n\u001b[1;32m     17\u001b[0m             \u001b[0mpattern_check\u001b[0m\u001b[0;34m.\u001b[0m\u001b[0mremove\u001b[0m\u001b[0;34m(\u001b[0m\u001b[0mguess\u001b[0m\u001b[0;34m[\u001b[0m\u001b[0mx\u001b[0m\u001b[0;34m]\u001b[0m\u001b[0;34m)\u001b[0m\u001b[0;34m\u001b[0m\u001b[0;34m\u001b[0m\u001b[0m\n",
      "\u001b[0;31mIndexError\u001b[0m: list index out of range"
     ]
    }
   ],
   "source": [
    "checkGuess([2,2,2,2],[1,2,2,4])"
   ]
  },
  {
   "cell_type": "code",
   "execution_count": 1,
   "metadata": {},
   "outputs": [
    {
     "name": "stdout",
     "output_type": "stream",
     "text": [
      "\n",
      "\n",
      "                                                                                                                                                                                                     \n",
      "                                                                                                                                                                                             dddddddd\n",
      "MMMMMMMM               MMMMMMMM                                           tttt                                                                            iiii                               d::::::d\n",
      "M:::::::M             M:::::::M                                        ttt:::t                                                                           i::::i                              d::::::d\n",
      "M::::::::M           M::::::::M                                        t:::::t                                                                            iiii                               d::::::d\n",
      "M:::::::::M         M:::::::::M                                        t:::::t                                                                                                               d:::::d \n",
      "M::::::::::M       M::::::::::M  aaaaaaaaaaaaa      ssssssssss   ttttttt:::::ttttttt        eeeeeeeeeeee    rrrrr   rrrrrrrrr      mmmmmmm    mmmmmmm   iiiiiiinnnn  nnnnnnnn        ddddddddd:::::d \n",
      "M:::::::::::M     M:::::::::::M  a::::::::::::a   ss::::::::::s  t:::::::::::::::::t      ee::::::::::::ee  r::::rrr:::::::::r   mm:::::::m  m:::::::mm i:::::in:::nn::::::::nn    dd::::::::::::::d \n",
      "M:::::::M::::M   M::::M:::::::M  aaaaaaaaa:::::ass:::::::::::::s t:::::::::::::::::t     e::::::eeeee:::::eer:::::::::::::::::r m::::::::::mm::::::::::m i::::in::::::::::::::nn  d::::::::::::::::d \n",
      "M::::::M M::::M M::::M M::::::M           a::::as::::::ssss:::::stttttt:::::::tttttt    e::::::e     e:::::err::::::rrrrr::::::rm::::::::::::::::::::::m i::::inn:::::::::::::::nd:::::::ddddd:::::d \n",
      "M::::::M  M::::M::::M  M::::::M    aaaaaaa:::::a s:::::s  ssssss       t:::::t          e:::::::eeeee::::::e r:::::r     r:::::rm:::::mmm::::::mmm:::::m i::::i  n:::::nnnn:::::nd::::::d    d:::::d \n",
      "M::::::M   M:::::::M   M::::::M  aa::::::::::::a   s::::::s            t:::::t          e:::::::::::::::::e  r:::::r     rrrrrrrm::::m   m::::m   m::::m i::::i  n::::n    n::::nd:::::d     d:::::d \n",
      "M::::::M    M:::::M    M::::::M a::::aaaa::::::a      s::::::s         t:::::t          e::::::eeeeeeeeeee   r:::::r            m::::m   m::::m   m::::m i::::i  n::::n    n::::nd:::::d     d:::::d \n",
      "M::::::M     MMMMM     M::::::Ma::::a    a:::::assssss   s:::::s       t:::::t    tttttte:::::::e            r:::::r            m::::m   m::::m   m::::m i::::i  n::::n    n::::nd:::::d     d:::::d \n",
      "M::::::M               M::::::Ma::::a    a:::::as:::::ssss::::::s      t::::::tttt:::::te::::::::e           r:::::r            m::::m   m::::m   m::::mi::::::i n::::n    n::::nd::::::ddddd::::::dd\n",
      "M::::::M               M::::::Ma:::::aaaa::::::as::::::::::::::s       tt::::::::::::::t e::::::::eeeeeeee   r:::::r            m::::m   m::::m   m::::mi::::::i n::::n    n::::n d:::::::::::::::::d\n",
      "M::::::M               M::::::M a::::::::::aa:::as:::::::::::ss          tt:::::::::::tt  ee:::::::::::::e   r:::::r            m::::m   m::::m   m::::mi::::::i n::::n    n::::n  d:::::::::ddd::::d\n",
      "MMMMMMMM               MMMMMMMM  aaaaaaaaaa  aaaa sssssssssss              ttttttttttt      eeeeeeeeeeeeee   rrrrrrr            mmmmmm   mmmmmm   mmmmmmiiiiiiii nnnnnn    nnnnnn   ddddddddd   ddddd\n",
      "                                                                                                                                                                                                     \n",
      "                                                                                                                                                                                                     \n",
      "                                                                                                                                                                                                     \n",
      "                                                                                                                                                                                                     \n",
      "                                                                                                                                                                                                     \n",
      "                                                                                                                                                                                                     \n",
      "                                                                                                                                                                                                     \n",
      "\n",
      "\n"
     ]
    }
   ],
   "source": [
    "print('''\n",
    "\n",
    "\n",
    "                                                                                                                                                                                                     \n",
    "                                                                                                                                                                                             dddddddd\n",
    "MMMMMMMM               MMMMMMMM                                           tttt                                                                            iiii                               d::::::d\n",
    "M:::::::M             M:::::::M                                        ttt:::t                                                                           i::::i                              d::::::d\n",
    "M::::::::M           M::::::::M                                        t:::::t                                                                            iiii                               d::::::d\n",
    "M:::::::::M         M:::::::::M                                        t:::::t                                                                                                               d:::::d \n",
    "M::::::::::M       M::::::::::M  aaaaaaaaaaaaa      ssssssssss   ttttttt:::::ttttttt        eeeeeeeeeeee    rrrrr   rrrrrrrrr      mmmmmmm    mmmmmmm   iiiiiiinnnn  nnnnnnnn        ddddddddd:::::d \n",
    "M:::::::::::M     M:::::::::::M  a::::::::::::a   ss::::::::::s  t:::::::::::::::::t      ee::::::::::::ee  r::::rrr:::::::::r   mm:::::::m  m:::::::mm i:::::in:::nn::::::::nn    dd::::::::::::::d \n",
    "M:::::::M::::M   M::::M:::::::M  aaaaaaaaa:::::ass:::::::::::::s t:::::::::::::::::t     e::::::eeeee:::::eer:::::::::::::::::r m::::::::::mm::::::::::m i::::in::::::::::::::nn  d::::::::::::::::d \n",
    "M::::::M M::::M M::::M M::::::M           a::::as::::::ssss:::::stttttt:::::::tttttt    e::::::e     e:::::err::::::rrrrr::::::rm::::::::::::::::::::::m i::::inn:::::::::::::::nd:::::::ddddd:::::d \n",
    "M::::::M  M::::M::::M  M::::::M    aaaaaaa:::::a s:::::s  ssssss       t:::::t          e:::::::eeeee::::::e r:::::r     r:::::rm:::::mmm::::::mmm:::::m i::::i  n:::::nnnn:::::nd::::::d    d:::::d \n",
    "M::::::M   M:::::::M   M::::::M  aa::::::::::::a   s::::::s            t:::::t          e:::::::::::::::::e  r:::::r     rrrrrrrm::::m   m::::m   m::::m i::::i  n::::n    n::::nd:::::d     d:::::d \n",
    "M::::::M    M:::::M    M::::::M a::::aaaa::::::a      s::::::s         t:::::t          e::::::eeeeeeeeeee   r:::::r            m::::m   m::::m   m::::m i::::i  n::::n    n::::nd:::::d     d:::::d \n",
    "M::::::M     MMMMM     M::::::Ma::::a    a:::::assssss   s:::::s       t:::::t    tttttte:::::::e            r:::::r            m::::m   m::::m   m::::m i::::i  n::::n    n::::nd:::::d     d:::::d \n",
    "M::::::M               M::::::Ma::::a    a:::::as:::::ssss::::::s      t::::::tttt:::::te::::::::e           r:::::r            m::::m   m::::m   m::::mi::::::i n::::n    n::::nd::::::ddddd::::::dd\n",
    "M::::::M               M::::::Ma:::::aaaa::::::as::::::::::::::s       tt::::::::::::::t e::::::::eeeeeeee   r:::::r            m::::m   m::::m   m::::mi::::::i n::::n    n::::n d:::::::::::::::::d\n",
    "M::::::M               M::::::M a::::::::::aa:::as:::::::::::ss          tt:::::::::::tt  ee:::::::::::::e   r:::::r            m::::m   m::::m   m::::mi::::::i n::::n    n::::n  d:::::::::ddd::::d\n",
    "MMMMMMMM               MMMMMMMM  aaaaaaaaaa  aaaa sssssssssss              ttttttttttt      eeeeeeeeeeeeee   rrrrrrr            mmmmmm   mmmmmm   mmmmmmiiiiiiii nnnnnn    nnnnnn   ddddddddd   ddddd\n",
    "                                                                                                                                                                                                     \n",
    "                                                                                                                                                                                                     \n",
    "                                                                                                                                                                                                     \n",
    "                                                                                                                                                                                                     \n",
    "                                                                                                                                                                                                     \n",
    "                                                                                                                                                                                                     \n",
    "                                                                                                                                                                                                     \n",
    "\n",
    "\n",
    "''')"
   ]
  },
  {
   "cell_type": "code",
   "execution_count": 40,
   "metadata": {},
   "outputs": [],
   "source": [
    "M='MMMM\\nMMMM\\nMMMM\\nMMMM\\n'\n",
    "A='AAAA\\nAAAA\\nAAAA\\nAAAA\\n'\n",
    "S='SSSS\\nSSSS\\nSSSS\\nSSSS\\n'\n",
    "mastermind = [m.upper() for m in 'mastermind']"
   ]
  },
  {
   "cell_type": "code",
   "execution_count": 25,
   "metadata": {},
   "outputs": [
    {
     "name": "stdout",
     "output_type": "stream",
     "text": [
      " MASTERMIND"
     ]
    }
   ],
   "source": [
    "from random import randint \n",
    "from random import shuffle\n",
    "from time import sleep\n",
    "mastermind = [m.upper() for m in 'mastermind']\n",
    "mastermind_shuffled = mastermind.copy()\n",
    "#print (''.join(mastermind))\n",
    "for x in range(len(mastermind)):\n",
    "    y=randint(0,len(mastermind))\n",
    "    shuffle(mastermind_shuffled)\n",
    "    print('\\r',''.join(mastermind_shuffled[0:x]),end='')\n",
    "    sleep(0.5)\n",
    "print ('\\r',''.join(mastermind),end='')"
   ]
  },
  {
   "cell_type": "code",
   "execution_count": 70,
   "metadata": {},
   "outputs": [
    {
     "name": "stdout",
     "output_type": "stream",
     "text": [
      " MASTERMIND\n",
      "welcome to mastermind!\n"
     ]
    }
   ],
   "source": [
    "mastermindTumbleLogo()"
   ]
  },
  {
   "cell_type": "code",
   "execution_count": 62,
   "metadata": {},
   "outputs": [
    {
     "name": "stdout",
     "output_type": "stream",
     "text": [
      "\u00075"
     ]
    },
    {
     "ename": "KeyboardInterrupt",
     "evalue": "",
     "output_type": "error",
     "traceback": [
      "\u001b[0;31m---------------------------------------------------------------------------\u001b[0m",
      "\u001b[0;31mKeyboardInterrupt\u001b[0m                         Traceback (most recent call last)",
      "\u001b[0;32m<ipython-input-62-dab80c4bb90a>\u001b[0m in \u001b[0;36m<module>\u001b[0;34m\u001b[0m\n\u001b[1;32m      4\u001b[0m     \u001b[0msys\u001b[0m\u001b[0;34m.\u001b[0m\u001b[0mstdout\u001b[0m\u001b[0;34m.\u001b[0m\u001b[0mwrite\u001b[0m\u001b[0;34m(\u001b[0m\u001b[0;34m'\\r\\a{i}'\u001b[0m\u001b[0;34m.\u001b[0m\u001b[0mformat\u001b[0m\u001b[0;34m(\u001b[0m\u001b[0mi\u001b[0m\u001b[0;34m=\u001b[0m\u001b[0mi\u001b[0m\u001b[0;34m)\u001b[0m\u001b[0;34m)\u001b[0m\u001b[0;34m\u001b[0m\u001b[0;34m\u001b[0m\u001b[0m\n\u001b[1;32m      5\u001b[0m     \u001b[0msys\u001b[0m\u001b[0;34m.\u001b[0m\u001b[0mstdout\u001b[0m\u001b[0;34m.\u001b[0m\u001b[0mflush\u001b[0m\u001b[0;34m(\u001b[0m\u001b[0;34m)\u001b[0m\u001b[0;34m\u001b[0m\u001b[0;34m\u001b[0m\u001b[0m\n\u001b[0;32m----> 6\u001b[0;31m     \u001b[0mtime\u001b[0m\u001b[0;34m.\u001b[0m\u001b[0msleep\u001b[0m\u001b[0;34m(\u001b[0m\u001b[0;36m1\u001b[0m\u001b[0;34m)\u001b[0m\u001b[0;34m\u001b[0m\u001b[0;34m\u001b[0m\u001b[0m\n\u001b[0m\u001b[1;32m      7\u001b[0m \u001b[0msys\u001b[0m\u001b[0;34m.\u001b[0m\u001b[0mstdout\u001b[0m\u001b[0;34m.\u001b[0m\u001b[0mwrite\u001b[0m\u001b[0;34m(\u001b[0m\u001b[0;34m'\\a'\u001b[0m\u001b[0;34m)\u001b[0m\u001b[0;34m\u001b[0m\u001b[0;34m\u001b[0m\u001b[0m\n",
      "\u001b[0;31mKeyboardInterrupt\u001b[0m: "
     ]
    }
   ],
   "source": [
    "import time\n",
    "import sys\n",
    "for i in range(1,6):\n",
    "    sys.stdout.write('\\r\\a{i}'.format(i=i))\n",
    "    sys.stdout.flush()\n",
    "    time.sleep(1)\n",
    "sys.stdout.write('\\a')"
   ]
  },
  {
   "cell_type": "code",
   "execution_count": 36,
   "metadata": {},
   "outputs": [
    {
     "name": "stdout",
     "output_type": "stream",
     "text": [
      "MMMM\n",
      "MMMM\n",
      "MMMM\n",
      "MMMM\n",
      "\n",
      "AAAA\n",
      "AAAA\n",
      "AAAA\n",
      "AAAA\n",
      "\n",
      "SSSS\n",
      "SSSS\n",
      "SSSS\n",
      "SSSS\n",
      "\n"
     ]
    }
   ],
   "source": [
    "for i,m in enumerate(mastermind):\n",
    "    print(m)"
   ]
  },
  {
   "cell_type": "code",
   "execution_count": 103,
   "metadata": {},
   "outputs": [],
   "source": [
    "def test(x):\n",
    "    x.pop(1)\n",
    "    return \n",
    "\n",
    "def main():\n",
    "    x=[1,2,3,4]\n",
    "    print(x)\n",
    "    test(x)\n",
    "    print(x)"
   ]
  },
  {
   "cell_type": "code",
   "execution_count": 104,
   "metadata": {},
   "outputs": [
    {
     "name": "stdout",
     "output_type": "stream",
     "text": [
      "[1, 2, 3, 4]\n",
      "[1, 3, 4]\n"
     ]
    }
   ],
   "source": [
    "main()"
   ]
  },
  {
   "cell_type": "code",
   "execution_count": 24,
   "metadata": {},
   "outputs": [
    {
     "data": {
      "text/plain": [
       "defaultdict(dict,\n",
       "            {1: {'Guess:': [1, 2, 3, 4],\n",
       "              'Correct Number:': 1,\n",
       "              'Correct Location:': 1},\n",
       "             2: {'Guess:': [1, 2, 3, 4],\n",
       "              'Correct Number:': 1,\n",
       "              'Correct Location:': 1},\n",
       "             3: {'Guess:': [1, 2, 3, 4],\n",
       "              'Correct Number:': 1,\n",
       "              'Correct Location:': 1}})"
      ]
     },
     "execution_count": 24,
     "metadata": {},
     "output_type": "execute_result"
    }
   ],
   "source": [
    "d = defaultdict(dict)\n",
    "d[1]={'Guess:': [1, 2, 3, 4], 'Correct Number:': 1, 'Correct Location:': 1}\n",
    "d[2]={'Guess:': [1, 2, 3, 4], 'Correct Number:': 1, 'Correct Location:': 1}\n",
    "d[3]={'Guess:': [1, 2, 3, 4], 'Correct Number:': 1, 'Correct Location:': 1}\n",
    "d"
   ]
  },
  {
   "cell_type": "code",
   "execution_count": 28,
   "metadata": {},
   "outputs": [
    {
     "name": "stdout",
     "output_type": "stream",
     "text": [
      "Guess # 1 [1, 2, 3, 4] Correct Number Only: 1 Correct Number and Location: 1\n",
      "Guess # 2 [1, 2, 3, 4] Correct Number Only: 1 Correct Number and Location: 1\n",
      "Guess # 3 [1, 2, 3, 4] Correct Number Only: 1 Correct Number and Location: 1\n"
     ]
    }
   ],
   "source": [
    "for keys,values in d.items():\n",
    "    #print (keys,values)\n",
    "    print('Guess #',keys,values['Guess:'],'Correct Number Only:',values['Correct Number:'],'Correct Number and Location:',values['Correct Location:'])\n",
    "    #for k,v in values.items():\n",
    "     #   print (keys,k,v)"
   ]
  },
  {
   "cell_type": "code",
   "execution_count": 157,
   "metadata": {},
   "outputs": [
    {
     "name": "stdout",
     "output_type": "stream",
     "text": [
      "\n",
      "*     *     *\n",
      "**   **    * *\n",
      "* * * *   *   *\n",
      "*  *  *  *******\n",
      "*     * *       *\n"
     ]
    }
   ],
   "source": [
    "print(\n",
    "    '''\n",
    "*     *     *\n",
    "**   **    * *\n",
    "* * * *   *   *\n",
    "*  *  *  *******\n",
    "*     * *       *''')\n"
   ]
  },
  {
   "cell_type": "code",
   "execution_count": null,
   "metadata": {},
   "outputs": [],
   "source": []
  },
  {
   "cell_type": "code",
   "execution_count": null,
   "metadata": {},
   "outputs": [],
   "source": []
  }
 ],
 "metadata": {
  "kernelspec": {
   "display_name": "Python 3",
   "language": "python",
   "name": "python3"
  },
  "language_info": {
   "codemirror_mode": {
    "name": "ipython",
    "version": 3
   },
   "file_extension": ".py",
   "mimetype": "text/x-python",
   "name": "python",
   "nbconvert_exporter": "python",
   "pygments_lexer": "ipython3",
   "version": "3.6.8"
  }
 },
 "nbformat": 4,
 "nbformat_minor": 4
}
