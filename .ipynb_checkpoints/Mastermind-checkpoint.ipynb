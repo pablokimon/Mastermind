{
 "cells": [
  {
   "cell_type": "code",
   "execution_count": 1,
   "metadata": {},
   "outputs": [],
   "source": [
    "import requests\n",
    "import json"
   ]
  },
  {
   "cell_type": "code",
   "execution_count": 7,
   "metadata": {},
   "outputs": [
    {
     "name": "stdout",
     "output_type": "stream",
     "text": [
      "{\"jsonrpc\":\"2.0\",\"result\":{\"random\":{\"data\":[3,8,3,2],\"completionTime\":\"2020-02-19 23:00:49Z\"},\"bitsUsed\":12,\"bitsLeft\":249955,\"requestsLeft\":998,\"advisoryDelay\":1710},\"id\":24565}\n"
     ]
    }
   ],
   "source": [
    "url = 'https://api.random.org/json-rpc/1/invoke'\n",
    "mykey= '8aa94497-2f4a-4042-b028-a161f9363af9'\n",
    "#mykey = 'ENgDXyYwRz2HE4Ds/5eraOGcieGOX/nK0oLyBwewSDhHAOGDuFBRIxPELjT0xdO5E2l4gYfScmyrY0LUk1zpJQ== '\n",
    "data = {'jsonrpc':'2.0','method':'generateIntegers','params': {'apiKey':mykey,'n':4,'min':1,'max':8,'replacement':'true','base':10},'id':24565}\n",
    "\n",
    "params = json.dumps(data)\n",
    "\n",
    "response = requests.post(url,params)\n",
    "\n",
    "print(response.text)"
   ]
  },
  {
   "cell_type": "code",
   "execution_count": 5,
   "metadata": {},
   "outputs": [
    {
     "data": {
      "text/plain": [
       "<Response [200]>"
      ]
     },
     "execution_count": 5,
     "metadata": {},
     "output_type": "execute_result"
    }
   ],
   "source": [
    "response"
   ]
  },
  {
   "cell_type": "code",
   "execution_count": 13,
   "metadata": {},
   "outputs": [],
   "source": [
    "randomResponse = response.content"
   ]
  },
  {
   "cell_type": "code",
   "execution_count": 14,
   "metadata": {},
   "outputs": [
    {
     "data": {
      "text/plain": [
       "b'{\"jsonrpc\":\"2.0\",\"result\":{\"random\":{\"data\":[3,8,3,2],\"completionTime\":\"2020-02-19 23:00:49Z\"},\"bitsUsed\":12,\"bitsLeft\":249955,\"requestsLeft\":998,\"advisoryDelay\":1710},\"id\":24565}'"
      ]
     },
     "execution_count": 14,
     "metadata": {},
     "output_type": "execute_result"
    }
   ],
   "source": [
    "randomResponse"
   ]
  },
  {
   "cell_type": "code",
   "execution_count": 15,
   "metadata": {},
   "outputs": [],
   "source": [
    "parsed_randomResponse = json.loads(randomResponse)"
   ]
  },
  {
   "cell_type": "code",
   "execution_count": 16,
   "metadata": {},
   "outputs": [
    {
     "data": {
      "text/plain": [
       "{'jsonrpc': '2.0',\n",
       " 'result': {'random': {'data': [3, 8, 3, 2],\n",
       "   'completionTime': '2020-02-19 23:00:49Z'},\n",
       "  'bitsUsed': 12,\n",
       "  'bitsLeft': 249955,\n",
       "  'requestsLeft': 998,\n",
       "  'advisoryDelay': 1710},\n",
       " 'id': 24565}"
      ]
     },
     "execution_count": 16,
     "metadata": {},
     "output_type": "execute_result"
    }
   ],
   "source": [
    "parsed_randomResponse"
   ]
  },
  {
   "cell_type": "code",
   "execution_count": 20,
   "metadata": {},
   "outputs": [],
   "source": [
    "pattern = parsed_randomResponse['result']['random']['data']"
   ]
  },
  {
   "cell_type": "code",
   "execution_count": 21,
   "metadata": {},
   "outputs": [
    {
     "data": {
      "text/plain": [
       "[3, 8, 3, 2]"
      ]
     },
     "execution_count": 21,
     "metadata": {},
     "output_type": "execute_result"
    }
   ],
   "source": [
    "pattern"
   ]
  },
  {
   "cell_type": "code",
   "execution_count": 22,
   "metadata": {},
   "outputs": [],
   "source": [
    "pattern_length = 4\n",
    "pattern_start = 1\n",
    "pattern_end = 8\n"
   ]
  },
  {
   "cell_type": "code",
   "execution_count": 51,
   "metadata": {},
   "outputs": [
    {
     "name": "stdin",
     "output_type": "stream",
     "text": [
      "Please enter 4 numbers between 1 and 8 3823\n"
     ]
    },
    {
     "name": "stdout",
     "output_type": "stream",
     "text": [
      "3 3\n",
      "8 8\n",
      "2 3\n",
      "3 2\n"
     ]
    },
    {
     "data": {
      "text/plain": [
       "(2, 1)"
      ]
     },
     "execution_count": 51,
     "metadata": {},
     "output_type": "execute_result"
    }
   ],
   "source": [
    "guess = input('Please enter %d numbers between %d and %d' %(pattern_length,pattern_start,pattern_end))\n",
    "guess=[int(g) for g in guess]\n",
    "checkGuess(guess,pattern)"
   ]
  },
  {
   "cell_type": "code",
   "execution_count": 34,
   "metadata": {},
   "outputs": [
    {
     "name": "stdout",
     "output_type": "stream",
     "text": [
      "1\n",
      "2\n",
      "3\n",
      "4\n"
     ]
    }
   ],
   "source": [
    "for g in guess:\n",
    "    print(g)"
   ]
  },
  {
   "cell_type": "code",
   "execution_count": 37,
   "metadata": {},
   "outputs": [],
   "source": [
    "guess=[g for g in guess]"
   ]
  },
  {
   "cell_type": "code",
   "execution_count": 38,
   "metadata": {},
   "outputs": [
    {
     "data": {
      "text/plain": [
       "['1', '2', '3', '4']"
      ]
     },
     "execution_count": 38,
     "metadata": {},
     "output_type": "execute_result"
    }
   ],
   "source": [
    "guess"
   ]
  },
  {
   "cell_type": "code",
   "execution_count": 47,
   "metadata": {},
   "outputs": [],
   "source": [
    "def checkGuess(guess,pattern):\n",
    "    correctPlace=0\n",
    "    correctNumber=0\n",
    "    for x in range(len(guess)):\n",
    "        print(guess[x],pattern[x])\n",
    "        if guess[x] == pattern[x]:\n",
    "            correctPlace=+1\n",
    "        elif guess[x] in pattern:\n",
    "            correctNumber+=1\n",
    "    return correctNumber,correctPlace"
   ]
  },
  {
   "cell_type": "code",
   "execution_count": 45,
   "metadata": {},
   "outputs": [
    {
     "data": {
      "text/plain": [
       "(0, 0)"
      ]
     },
     "execution_count": 45,
     "metadata": {},
     "output_type": "execute_result"
    }
   ],
   "source": [
    "checkGuess(guess,pattern)"
   ]
  },
  {
   "cell_type": "code",
   "execution_count": 49,
   "metadata": {},
   "outputs": [
    {
     "data": {
      "text/plain": [
       "[3, 8, 3, 2]"
      ]
     },
     "execution_count": 49,
     "metadata": {},
     "output_type": "execute_result"
    }
   ],
   "source": [
    "pattern"
   ]
  },
  {
   "cell_type": "code",
   "execution_count": null,
   "metadata": {},
   "outputs": [],
   "source": []
  }
 ],
 "metadata": {
  "kernelspec": {
   "display_name": "Python 3",
   "language": "python",
   "name": "python3"
  },
  "language_info": {
   "codemirror_mode": {
    "name": "ipython",
    "version": 3
   },
   "file_extension": ".py",
   "mimetype": "text/x-python",
   "name": "python",
   "nbconvert_exporter": "python",
   "pygments_lexer": "ipython3",
   "version": "3.7.4"
  }
 },
 "nbformat": 4,
 "nbformat_minor": 4
}
